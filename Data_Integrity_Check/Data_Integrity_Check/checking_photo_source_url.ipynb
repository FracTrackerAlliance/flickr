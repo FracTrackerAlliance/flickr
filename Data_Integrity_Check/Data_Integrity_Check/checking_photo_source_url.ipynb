{
 "cells": [
  {
   "cell_type": "markdown",
   "metadata": {},
   "source": [
    "# Scraping/pulling to photo source URL\n",
    "### Author: Tess Wagner\n",
    "### Date: 8/21/24"
   ]
  },
  {
   "cell_type": "markdown",
   "metadata": {},
   "source": [
    "First, I'm looking at the old scrape for tips and to identify any url patterns."
   ]
  },
  {
   "cell_type": "code",
   "execution_count": 2,
   "metadata": {},
   "outputs": [],
   "source": [
    "import pandas as pd\n",
    "import re"
   ]
  },
  {
   "cell_type": "code",
   "execution_count": 6,
   "metadata": {},
   "outputs": [],
   "source": [
    "data = pd.read_csv('C://Users//csky2//Desktop//CS//FracTracker//cleaned_data.csv')\n",
    "data.rename(columns={'Photo_src_URL': 'photo_src'}, inplace=True)"
   ]
  },
  {
   "cell_type": "code",
   "execution_count": 8,
   "metadata": {},
   "outputs": [],
   "source": [
    "# making sure there arent repeats to identify a true pattern\n",
    "checking_for_duplicate_srcs = list(data.duplicated('photo_src'))\n",
    "if True in checking_for_duplicate_srcs:\n",
    "    data.drop_duplicates(subset = ['photo_src'], inplace= True)\n",
    "else:\n",
    "    pass\n"
   ]
  },
  {
   "cell_type": "code",
   "execution_count": 9,
   "metadata": {},
   "outputs": [
    {
     "data": {
      "text/html": [
       "<div>\n",
       "<style scoped>\n",
       "    .dataframe tbody tr th:only-of-type {\n",
       "        vertical-align: middle;\n",
       "    }\n",
       "\n",
       "    .dataframe tbody tr th {\n",
       "        vertical-align: top;\n",
       "    }\n",
       "\n",
       "    .dataframe thead th {\n",
       "        text-align: right;\n",
       "    }\n",
       "</style>\n",
       "<table border=\"1\" class=\"dataframe\">\n",
       "  <thead>\n",
       "    <tr style=\"text-align: right;\">\n",
       "      <th></th>\n",
       "      <th>photo_src</th>\n",
       "      <th>URL</th>\n",
       "      <th>PhotoID</th>\n",
       "    </tr>\n",
       "  </thead>\n",
       "  <tbody>\n",
       "    <tr>\n",
       "      <th>0</th>\n",
       "      <td>https://live.staticflickr.com/65535/49727911618_3a2f2bcaa8_o.jpg</td>\n",
       "      <td>https://www.flickr.com/photos/fractracker/49727911618/in/album-72157713728924116</td>\n",
       "      <td>49727911618</td>\n",
       "    </tr>\n",
       "    <tr>\n",
       "      <th>1</th>\n",
       "      <td>https://live.staticflickr.com/65535/49727914298_a476f79278_o.jpg</td>\n",
       "      <td>https://www.flickr.com/photos/fractracker/49727914298/in/album-72157713728924116</td>\n",
       "      <td>49727914298</td>\n",
       "    </tr>\n",
       "    <tr>\n",
       "      <th>2</th>\n",
       "      <td>https://live.staticflickr.com/65535/49727914638_bfe5a977dc_o.jpg</td>\n",
       "      <td>https://www.flickr.com/photos/fractracker/49727914638/in/album-72157713728924116</td>\n",
       "      <td>49727914638</td>\n",
       "    </tr>\n",
       "    <tr>\n",
       "      <th>3</th>\n",
       "      <td>https://live.staticflickr.com/65535/49727915018_a3e7f76c52_o.jpg</td>\n",
       "      <td>https://www.flickr.com/photos/fractracker/49727915018/in/album-72157713728924116</td>\n",
       "      <td>49727915018</td>\n",
       "    </tr>\n",
       "    <tr>\n",
       "      <th>4</th>\n",
       "      <td>https://live.staticflickr.com/65535/49727915083_77990d84d6_o.jpg</td>\n",
       "      <td>https://www.flickr.com/photos/fractracker/49727915083/in/album-72157713728924116</td>\n",
       "      <td>49727915083</td>\n",
       "    </tr>\n",
       "    <tr>\n",
       "      <th>...</th>\n",
       "      <td>...</td>\n",
       "      <td>...</td>\n",
       "      <td>...</td>\n",
       "    </tr>\n",
       "    <tr>\n",
       "      <th>2705</th>\n",
       "      <td>https://live.staticflickr.com/65535/53706158340_0cab5deb42_o.jpg</td>\n",
       "      <td>https://www.flickr.com/photos/fractracker/53706158340/in/album-72157714265378312</td>\n",
       "      <td>53706158340</td>\n",
       "    </tr>\n",
       "    <tr>\n",
       "      <th>2706</th>\n",
       "      <td>https://live.staticflickr.com/65535/53706158375_3aa0cbae5c_o.jpg</td>\n",
       "      <td>https://www.flickr.com/photos/fractracker/53706158375/in/album-72157714265378312</td>\n",
       "      <td>53706158375</td>\n",
       "    </tr>\n",
       "    <tr>\n",
       "      <th>2707</th>\n",
       "      <td>https://live.staticflickr.com/65535/53706158545_bf89ddbcbf_o.jpg</td>\n",
       "      <td>https://www.flickr.com/photos/fractracker/53706158545/in/album-72157714265378312</td>\n",
       "      <td>53706158545</td>\n",
       "    </tr>\n",
       "    <tr>\n",
       "      <th>2708</th>\n",
       "      <td>https://live.staticflickr.com/65535/53706158630_742558cf00_o.jpg</td>\n",
       "      <td>https://www.flickr.com/photos/fractracker/53706158630/in/album-72157714265378312</td>\n",
       "      <td>53706158630</td>\n",
       "    </tr>\n",
       "    <tr>\n",
       "      <th>2709</th>\n",
       "      <td>https://live.staticflickr.com/65535/53706158655_58c226556c_o.jpg</td>\n",
       "      <td>https://www.flickr.com/photos/fractracker/53706158655/in/album-72157714265378312</td>\n",
       "      <td>53706158655</td>\n",
       "    </tr>\n",
       "  </tbody>\n",
       "</table>\n",
       "<p>2710 rows × 3 columns</p>\n",
       "</div>"
      ],
      "text/plain": [
       "                                                             photo_src  \\\n",
       "0     https://live.staticflickr.com/65535/49727911618_3a2f2bcaa8_o.jpg   \n",
       "1     https://live.staticflickr.com/65535/49727914298_a476f79278_o.jpg   \n",
       "2     https://live.staticflickr.com/65535/49727914638_bfe5a977dc_o.jpg   \n",
       "3     https://live.staticflickr.com/65535/49727915018_a3e7f76c52_o.jpg   \n",
       "4     https://live.staticflickr.com/65535/49727915083_77990d84d6_o.jpg   \n",
       "...                                                                ...   \n",
       "2705  https://live.staticflickr.com/65535/53706158340_0cab5deb42_o.jpg   \n",
       "2706  https://live.staticflickr.com/65535/53706158375_3aa0cbae5c_o.jpg   \n",
       "2707  https://live.staticflickr.com/65535/53706158545_bf89ddbcbf_o.jpg   \n",
       "2708  https://live.staticflickr.com/65535/53706158630_742558cf00_o.jpg   \n",
       "2709  https://live.staticflickr.com/65535/53706158655_58c226556c_o.jpg   \n",
       "\n",
       "                                                                                   URL  \\\n",
       "0     https://www.flickr.com/photos/fractracker/49727911618/in/album-72157713728924116   \n",
       "1     https://www.flickr.com/photos/fractracker/49727914298/in/album-72157713728924116   \n",
       "2     https://www.flickr.com/photos/fractracker/49727914638/in/album-72157713728924116   \n",
       "3     https://www.flickr.com/photos/fractracker/49727915018/in/album-72157713728924116   \n",
       "4     https://www.flickr.com/photos/fractracker/49727915083/in/album-72157713728924116   \n",
       "...                                                                                ...   \n",
       "2705  https://www.flickr.com/photos/fractracker/53706158340/in/album-72157714265378312   \n",
       "2706  https://www.flickr.com/photos/fractracker/53706158375/in/album-72157714265378312   \n",
       "2707  https://www.flickr.com/photos/fractracker/53706158545/in/album-72157714265378312   \n",
       "2708  https://www.flickr.com/photos/fractracker/53706158630/in/album-72157714265378312   \n",
       "2709  https://www.flickr.com/photos/fractracker/53706158655/in/album-72157714265378312   \n",
       "\n",
       "          PhotoID  \n",
       "0     49727911618  \n",
       "1     49727914298  \n",
       "2     49727914638  \n",
       "3     49727915018  \n",
       "4     49727915083  \n",
       "...           ...  \n",
       "2705  53706158340  \n",
       "2706  53706158375  \n",
       "2707  53706158545  \n",
       "2708  53706158630  \n",
       "2709  53706158655  \n",
       "\n",
       "[2710 rows x 3 columns]"
      ]
     },
     "execution_count": 9,
     "metadata": {},
     "output_type": "execute_result"
    }
   ],
   "source": [
    "pd.set_option('display.max_colwidth', None)\n",
    "subset_data = data[['photo_src', 'URL', 'PhotoID']].sort_values('photo_src')\n",
    "subset_data"
   ]
  },
  {
   "cell_type": "markdown",
   "metadata": {},
   "source": [
    "## Checker:"
   ]
  },
  {
   "cell_type": "markdown",
   "metadata": {},
   "source": [
    "## 1."
   ]
  },
  {
   "cell_type": "code",
   "execution_count": 10,
   "metadata": {},
   "outputs": [],
   "source": [
    "# it looks like the beginning part of src is the same lests see\n",
    "def get_beginning_str_src(data):\n",
    "    return data[0:len('https://live.staticflickr.com/')]"
   ]
  },
  {
   "cell_type": "code",
   "execution_count": 11,
   "metadata": {},
   "outputs": [
    {
     "data": {
      "text/plain": [
       "1"
      ]
     },
     "execution_count": 11,
     "metadata": {},
     "output_type": "execute_result"
    }
   ],
   "source": [
    "# if the list is longer that 1, there are different beginnings to the string. If it =1, all the strings start the same\n",
    "len(subset_data['photo_src'].apply(get_beginning_str_src).unique())"
   ]
  },
  {
   "cell_type": "code",
   "execution_count": 12,
   "metadata": {},
   "outputs": [
    {
     "name": "stdout",
     "output_type": "stream",
     "text": [
      "The first 30 characters of `photo_src` are always https://live.staticflickr.com/\n"
     ]
    }
   ],
   "source": [
    "print('The first', len('https://live.staticflickr.com/'), 'characters of `photo_src` are always https://live.staticflickr.com/' )"
   ]
  },
  {
   "cell_type": "markdown",
   "metadata": {},
   "source": [
    "## 2."
   ]
  },
  {
   "cell_type": "code",
   "execution_count": 13,
   "metadata": {},
   "outputs": [],
   "source": [
    "# it looks like 5 digits always follow the beginning https://live.staticflickr.com/\n",
    "# to check this, i will grab all the characters between the third and fourth \"/\", check that there are 5 characters, and check that it is an integer\n",
    "def get_text_between_third_and_fourth_slash(url):\n",
    "    # Split the string by \"/\"\n",
    "    parts = url.split('/')\n",
    "    # Check if there are enough parts\n",
    "    if len(parts) > 4:\n",
    "        # Return the part between the third and fourth slash\n",
    "        return parts[3]\n",
    "    else:\n",
    "        return \"NaN\""
   ]
  },
  {
   "cell_type": "code",
   "execution_count": 14,
   "metadata": {},
   "outputs": [],
   "source": [
    "five_digit_check = pd.DataFrame(subset_data.photo_src.apply(get_text_between_third_and_fourth_slash))"
   ]
  },
  {
   "cell_type": "code",
   "execution_count": 15,
   "metadata": {},
   "outputs": [
    {
     "data": {
      "text/plain": [
       "photo_src\n",
       "False        2710\n",
       "Name: count, dtype: int64"
      ]
     },
     "execution_count": 15,
     "metadata": {},
     "output_type": "execute_result"
    }
   ],
   "source": [
    "# if it is false, all of the values were successfully grabbed\n",
    "five_digit_check.isna().value_counts()"
   ]
  },
  {
   "cell_type": "code",
   "execution_count": 16,
   "metadata": {},
   "outputs": [
    {
     "name": "stdout",
     "output_type": "stream",
     "text": [
      "it is originally an object\n",
      "and we can successfully convert it to int32 meaning that they are all integers\n"
     ]
    },
    {
     "name": "stderr",
     "output_type": "stream",
     "text": [
      "C:\\Users\\csky2\\AppData\\Local\\Temp\\ipykernel_28108\\1911806588.py:1: FutureWarning: Series.__getitem__ treating keys as positions is deprecated. In a future version, integer keys will always be treated as labels (consistent with DataFrame behavior). To access a value by position, use `ser.iloc[pos]`\n",
      "  print('it is originally an', five_digit_check.dtypes[0])\n",
      "C:\\Users\\csky2\\AppData\\Local\\Temp\\ipykernel_28108\\1911806588.py:2: FutureWarning: Series.__getitem__ treating keys as positions is deprecated. In a future version, integer keys will always be treated as labels (consistent with DataFrame behavior). To access a value by position, use `ser.iloc[pos]`\n",
      "  print('and we can successfully convert it to', five_digit_check.astype('int').dtypes[0], 'meaning that they are all integers')\n"
     ]
    }
   ],
   "source": [
    "print('it is originally an', five_digit_check.dtypes[0])\n",
    "print('and we can successfully convert it to', five_digit_check.astype('int').dtypes[0], 'meaning that they are all integers')"
   ]
  },
  {
   "cell_type": "code",
   "execution_count": 17,
   "metadata": {},
   "outputs": [
    {
     "name": "stdout",
     "output_type": "stream",
     "text": [
      "number of digits | Percent of data\n"
     ]
    },
    {
     "data": {
      "text/plain": [
       "photo_src\n",
       "5    100.0\n",
       "Name: count, dtype: float64"
      ]
     },
     "execution_count": 17,
     "metadata": {},
     "output_type": "execute_result"
    }
   ],
   "source": [
    "print('number of digits | Percent of data')\n",
    "five_digit_check.photo_src.apply(lambda x: len(x)).value_counts()/subset_data.shape[0]*100"
   ]
  },
  {
   "cell_type": "markdown",
   "metadata": {},
   "source": [
    "## 3."
   ]
  },
  {
   "cell_type": "code",
   "execution_count": 18,
   "metadata": {},
   "outputs": [],
   "source": [
    "# it looks like the middle part of photo src is identical to he middle part of url and PhotoID, lets see\n",
    "def get_middle_str_src(data):\n",
    "    return data[36:47]\n",
    "\n",
    "def get_middle_str_url(data):\n",
    "    return data[42:53]"
   ]
  },
  {
   "cell_type": "code",
   "execution_count": 19,
   "metadata": {},
   "outputs": [],
   "source": [
    "# running the functions and adding it to a dataframe\n",
    "middle_chars = pd.DataFrame({'src_middle': subset_data['photo_src'].apply(get_middle_str_src), 'URL_middle': subset_data['URL'].apply(get_middle_str_url), 'PhotoID': subset_data['PhotoID'].astype('str')})"
   ]
  },
  {
   "cell_type": "code",
   "execution_count": 20,
   "metadata": {},
   "outputs": [
    {
     "data": {
      "text/html": [
       "<div>\n",
       "<style scoped>\n",
       "    .dataframe tbody tr th:only-of-type {\n",
       "        vertical-align: middle;\n",
       "    }\n",
       "\n",
       "    .dataframe tbody tr th {\n",
       "        vertical-align: top;\n",
       "    }\n",
       "\n",
       "    .dataframe thead th {\n",
       "        text-align: right;\n",
       "    }\n",
       "</style>\n",
       "<table border=\"1\" class=\"dataframe\">\n",
       "  <thead>\n",
       "    <tr style=\"text-align: right;\">\n",
       "      <th></th>\n",
       "      <th>src_middle</th>\n",
       "      <th>URL_middle</th>\n",
       "      <th>PhotoID</th>\n",
       "    </tr>\n",
       "  </thead>\n",
       "  <tbody>\n",
       "    <tr>\n",
       "      <th>0</th>\n",
       "      <td>49727911618</td>\n",
       "      <td>49727911618</td>\n",
       "      <td>49727911618</td>\n",
       "    </tr>\n",
       "    <tr>\n",
       "      <th>1</th>\n",
       "      <td>49727914298</td>\n",
       "      <td>49727914298</td>\n",
       "      <td>49727914298</td>\n",
       "    </tr>\n",
       "    <tr>\n",
       "      <th>2</th>\n",
       "      <td>49727914638</td>\n",
       "      <td>49727914638</td>\n",
       "      <td>49727914638</td>\n",
       "    </tr>\n",
       "    <tr>\n",
       "      <th>3</th>\n",
       "      <td>49727915018</td>\n",
       "      <td>49727915018</td>\n",
       "      <td>49727915018</td>\n",
       "    </tr>\n",
       "    <tr>\n",
       "      <th>4</th>\n",
       "      <td>49727915083</td>\n",
       "      <td>49727915083</td>\n",
       "      <td>49727915083</td>\n",
       "    </tr>\n",
       "    <tr>\n",
       "      <th>...</th>\n",
       "      <td>...</td>\n",
       "      <td>...</td>\n",
       "      <td>...</td>\n",
       "    </tr>\n",
       "    <tr>\n",
       "      <th>2705</th>\n",
       "      <td>53706158340</td>\n",
       "      <td>53706158340</td>\n",
       "      <td>53706158340</td>\n",
       "    </tr>\n",
       "    <tr>\n",
       "      <th>2706</th>\n",
       "      <td>53706158375</td>\n",
       "      <td>53706158375</td>\n",
       "      <td>53706158375</td>\n",
       "    </tr>\n",
       "    <tr>\n",
       "      <th>2707</th>\n",
       "      <td>53706158545</td>\n",
       "      <td>53706158545</td>\n",
       "      <td>53706158545</td>\n",
       "    </tr>\n",
       "    <tr>\n",
       "      <th>2708</th>\n",
       "      <td>53706158630</td>\n",
       "      <td>53706158630</td>\n",
       "      <td>53706158630</td>\n",
       "    </tr>\n",
       "    <tr>\n",
       "      <th>2709</th>\n",
       "      <td>53706158655</td>\n",
       "      <td>53706158655</td>\n",
       "      <td>53706158655</td>\n",
       "    </tr>\n",
       "  </tbody>\n",
       "</table>\n",
       "<p>2710 rows × 3 columns</p>\n",
       "</div>"
      ],
      "text/plain": [
       "       src_middle   URL_middle      PhotoID\n",
       "0     49727911618  49727911618  49727911618\n",
       "1     49727914298  49727914298  49727914298\n",
       "2     49727914638  49727914638  49727914638\n",
       "3     49727915018  49727915018  49727915018\n",
       "4     49727915083  49727915083  49727915083\n",
       "...           ...          ...          ...\n",
       "2705  53706158340  53706158340  53706158340\n",
       "2706  53706158375  53706158375  53706158375\n",
       "2707  53706158545  53706158545  53706158545\n",
       "2708  53706158630  53706158630  53706158630\n",
       "2709  53706158655  53706158655  53706158655\n",
       "\n",
       "[2710 rows x 3 columns]"
      ]
     },
     "execution_count": 20,
     "metadata": {},
     "output_type": "execute_result"
    }
   ],
   "source": [
    "middle_chars"
   ]
  },
  {
   "cell_type": "code",
   "execution_count": 21,
   "metadata": {},
   "outputs": [
    {
     "data": {
      "text/plain": [
       "True    2710\n",
       "Name: count, dtype: int64"
      ]
     },
     "execution_count": 21,
     "metadata": {},
     "output_type": "execute_result"
    }
   ],
   "source": [
    "# comparing the values. if all entries return true, then these sections are identical across the photo_src and URL\n",
    "pd.Series(middle_chars['src_middle'] == middle_chars['URL_middle']).value_counts()"
   ]
  },
  {
   "cell_type": "code",
   "execution_count": 22,
   "metadata": {},
   "outputs": [
    {
     "data": {
      "text/plain": [
       "True    2710\n",
       "Name: count, dtype: int64"
      ]
     },
     "execution_count": 22,
     "metadata": {},
     "output_type": "execute_result"
    }
   ],
   "source": [
    "pd.Series(middle_chars['src_middle'] == middle_chars['PhotoID']).value_counts()"
   ]
  },
  {
   "cell_type": "code",
   "execution_count": 23,
   "metadata": {},
   "outputs": [
    {
     "name": "stdout",
     "output_type": "stream",
     "text": [
      "Character number 35 through character number 47 of `photo_src` match character number 41 through character number 53 of `URL` and the `PhotoID`.\n"
     ]
    }
   ],
   "source": [
    "print('Character number', len('https://live.staticflickr.com/31337'), 'through character number', len('https://live.staticflickr.com/31337/50199457303'), \n",
    "      'of `photo_src` match character number', len('https://www.flickr.com/photos/fractracker'), 'through character number', \n",
    "      len('https://www.flickr.com/photos/fractracker/50199457303'), 'of `URL` and the `PhotoID`.')"
   ]
  },
  {
   "cell_type": "markdown",
   "metadata": {},
   "source": [
    "## 4."
   ]
  },
  {
   "cell_type": "code",
   "execution_count": 24,
   "metadata": {},
   "outputs": [
    {
     "data": {
      "text/plain": [
       "10"
      ]
     },
     "execution_count": 24,
     "metadata": {},
     "output_type": "execute_result"
    }
   ],
   "source": [
    "# finding the length of the digits in the second middle squence\n",
    "len('https://live.staticflickr.com/31337/50199457303_12742db461_o.jpg') - len('https://live.staticflickr.com/31337/50199457303_') - len('_o.jpg')"
   ]
  },
  {
   "cell_type": "code",
   "execution_count": 25,
   "metadata": {},
   "outputs": [],
   "source": [
    "# it looks like every photo source url ends in this sequence: _ + 10 characters + _o. + 3 characters\n",
    "def check_end_pattern(url):\n",
    "    # Regular expression to match the pattern\n",
    "    pattern = r'_[A-Za-z0-9]{10}_o\\.[a-z]{3}$'\n",
    "\n",
    "    # Search for the pattern in the string\n",
    "    match = re.search(pattern, url)\n",
    "    \n",
    "    # Return True if the pattern is found, otherwise False\n",
    "    return bool(match)"
   ]
  },
  {
   "cell_type": "code",
   "execution_count": 26,
   "metadata": {},
   "outputs": [
    {
     "data": {
      "text/plain": [
       "photo_src\n",
       "True    2710\n",
       "Name: count, dtype: int64"
      ]
     },
     "execution_count": 26,
     "metadata": {},
     "output_type": "execute_result"
    }
   ],
   "source": [
    "# if they all follow the pattern, they should all be true\n",
    "subset_data.photo_src.apply(check_end_pattern).value_counts()"
   ]
  }
 ],
 "metadata": {
  "kernelspec": {
   "display_name": "Python 3",
   "language": "python",
   "name": "python3"
  },
  "language_info": {
   "codemirror_mode": {
    "name": "ipython",
    "version": 3
   },
   "file_extension": ".py",
   "mimetype": "text/x-python",
   "name": "python",
   "nbconvert_exporter": "python",
   "pygments_lexer": "ipython3",
   "version": "3.10.11"
  }
 },
 "nbformat": 4,
 "nbformat_minor": 2
}
